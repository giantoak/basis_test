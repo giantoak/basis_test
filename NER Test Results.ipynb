{
 "cells": [
  {
   "cell_type": "markdown",
   "metadata": {},
   "source": [
    "# English NER comparison\n",
    "\n",
    "So, Aaron & I were running tests on the named-entity-recognition in [Basis,](http://www.basistech.com/) [AlchemyAPI,](http://www.alchemyapi.com/) [MITIE,](https://github.com/mit-nlp/MITIE) and [SpaCy.]()\n",
    "\n",
    "# Sample corpus\n",
    "\n",
    "Jeff hooked us up with a [bunch of text](http://giantoakmemex.s3.amazonaws.com/english.json.gz) (link goes to file) from Wikipedia articles. Since there aren't any gold standard annotations associated with this, we're just looking at relative performance of the different extractors - what one found that a different one didn't, etc.\n",
    "\n",
    "# Results\n",
    "\n",
    "## Aaron's aggregate Jaccard Similarities\n",
    "\n",
    "Aaron munged the lists of entities from Basis, SpaCy, and MITIE that I sent him with his Alchemy results and calculated inter-group Jaccard similarities. That gives us this little table:\n",
    "\n",
    "NER 1 | NER 2 | Jaccard\n",
    ":--- |:--- | ---:\n",
    "Basis | MITIE | 0.4129\n",
    "Basis | SpaCy | 0.3040\n",
    "MITIE | SpaCy | 0.2855\n",
    "Alchemy | Basis | 0.0302\n",
    "Alchemy | MITIE | 0.0280\n",
    "Alchemy | SpaCy | 0.0217\n",
    "\n",
    "These groups are finding very different populations. However, this bears a little bit of additional investigation: many of the entities found by different classifiers are often similar; they differ because of odd bits of prepended syntax or capitalization: things that we'd likely clean up in post-processing. As such, I try to sort this out with a little bit of cleaning below, and then look at the unique entities pulled by each extractor. I also check the difference in levenshtein "
   ]
  },
  {
   "cell_type": "code",
   "execution_count": 1,
   "metadata": {
    "collapsed": false
   },
   "outputs": [],
   "source": [
    "def recurser(x, lower=False):\n",
    "    \"\"\"\n",
    "    Kill \"the\"s, \"a\"s, \"an\"s, possesive \"s\"s, and wrapping punctuation and whitespace\n",
    "    (Regexes are silly but easy.)\n",
    "    Replace numbers with \"<NUM>\"\n",
    "    :param str x:\n",
    "    :param bool lower:\n",
    "    :return str:\n",
    "    \"\"\"\n",
    "    import re\n",
    "    from string import punctuation\n",
    "    try:\n",
    "        new_x = re.sub('[0-9]*(\\,?[0-9]*)*\\.?[0-9]+', '<NUM>', x)\n",
    "        new_x = re.sub('([\\#\\.\\-]?\\<NUM\\>)+', '<NUM>', new_x)\n",
    "        new_x = new_x.replace('(<NUM>)', '<NUM>')\n",
    "        new_x = re.sub('\\'s$', '', \n",
    "                       re.sub('^[Aa]n? ', '',\n",
    "                              re.sub('^[Tt]he ', '',\n",
    "                                     new_x.strip(punctuation).strip())))\n",
    "        if lower:\n",
    "            new_x = new_x.lower()\n",
    "    except (AttributeError, TypeError):\n",
    "        return ''\n",
    "    \n",
    "    return new_x\n",
    "\n",
    "def simple_entity_cleaner(x, lower=False):\n",
    "    \"\"\"\n",
    "    :param str x:\n",
    "    :param bool lower\n",
    "    :return str:\n",
    "    \"\"\"\n",
    "    new_x = recurser(x, lower)\n",
    "    while new_x != x:\n",
    "        x = new_x\n",
    "        new_x = recurser(x, lower)    \n",
    "    return new_x\n",
    "\n",
    "def get_min_substring_delta(ngram, other_ngrams):\n",
    "    \"\"\"\n",
    "    Get the shortest substring distance between ngram and all members of other_ngrams\n",
    "    If ngram is shorter than the other_ngram, the value is positive.\n",
    "    If ngram is longer, the value is negative.\n",
    "    :param str ngram:\n",
    "    :param list|set other_ngrams:\n",
    "    :return int:\n",
    "    \"\"\"\n",
    "    min_dist = 1000000000\n",
    "    len_ngram = len(ngram)\n",
    "    for ngram_two in other_ngrams:\n",
    "        if ngram_two.find(ngram) > -1:\n",
    "            new_dist = len_ngram - len(ngram_two)\n",
    "            if new_dist < 2:\n",
    "                return new_dist\n",
    "        elif ngram.find(ngram_two) > -1:\n",
    "            new_dist = -1 * (len(ngram_two) - len_ngram)\n",
    "        else:\n",
    "            continue\n",
    "            \n",
    "        if abs(new_dist) < abs(min_dist):\n",
    "            min_dist = new_dist\n",
    "            \n",
    "    return min_dist"
   ]
  },
  {
   "cell_type": "code",
   "execution_count": 2,
   "metadata": {
    "collapsed": false
   },
   "outputs": [
    {
     "name": "stdout",
     "output_type": "stream",
     "text": [
      "AlchemyAPI | 17722 | 17255\n",
      "basis | 1302 | 1286\n",
      "mitie | 1432 | 1431\n",
      "spacy | 1310 | 1226\n"
     ]
    }
   ],
   "source": [
    "jsns = json.load(open('jaccardScores.json', 'r'))\n",
    "new_uniques = {}\n",
    "for key in ['AlchemyAPI', 'basis', 'mitie', 'spacy']:\n",
    "    ents = jsns['unique_list'][key]\n",
    "    new_uniques[key] = set([simple_entity_cleaner(x) for x in ents]) - {'', '<NUM>'}\n",
    "    print('{} | {} | {}'.format(key, len(set(ents)), len(new_uniques[key])))"
   ]
  },
  {
   "cell_type": "code",
   "execution_count": 3,
   "metadata": {
    "collapsed": false
   },
   "outputs": [
    {
     "name": "stdout",
     "output_type": "stream",
     "text": [
      "=====\n",
      "spacy\n",
      "-----\n",
      "0                  ABC\n",
      "1                  ABH\n",
      "2                  ADA\n",
      "3              AOL Inc\n",
      "4    ARIA Music Awards\n",
      "dtype: object\n",
      "=====\n",
      "AlchemyAPI\n",
      "-----\n",
      "0              A\n",
      "1    A&M Records\n",
      "2           A. C\n",
      "3        A. Gunn\n",
      "4     A. H. Cobb\n",
      "dtype: object\n",
      "=====\n",
      "basis\n",
      "-----\n",
      "0      A\n",
      "1    ABC\n",
      "2    ABH\n",
      "3    AFP\n",
      "4    AMG\n",
      "dtype: object\n",
      "=====\n",
      "mitie\n",
      "-----\n",
      "0            ABC\n",
      "1            ABH\n",
      "2           ADMD\n",
      "3        AOL Inc\n",
      "4    APRA Awards\n",
      "dtype: object\n"
     ]
    }
   ],
   "source": [
    "for key in new_uniques:\n",
    "    print('=====')\n",
    "    print(key)\n",
    "    print('-----')\n",
    "    print(pd.Series(sorted(list(new_uniques[key]))).head(5))"
   ]
  },
  {
   "cell_type": "code",
   "execution_count": 4,
   "metadata": {
    "collapsed": false
   },
   "outputs": [],
   "source": [
    "def print_summary_stats(set_dict, key):\n",
    "    \"\"\"\n",
    "    Print summary vocab stats for set_dict[key]\n",
    "    :param dict set_dict: Dictionary of sets of vocabuary\n",
    "    :param str key: Key for which to get  vocab stats\n",
    "    \"\"\"\n",
    "    other_set = set()\n",
    "    for key_two in set_dict:\n",
    "        if key_two != key:\n",
    "            other_set.update(set_dict[key_two])\n",
    "    key_uniques = set_dict[key] - other_set\n",
    "    substring_dist = pd.Series([x\n",
    "                                for x in [get_min_substring_delta(y, other_set)\n",
    "                                          for y in key_uniques\n",
    "                                          if len(y) > 4]\n",
    "                                if x != 1000000000])\n",
    "\n",
    "    print('{} entities'.format(len(new_uniques[key])))\n",
    "    for x in sorted(list(new_uniques[key]))[:5]:\n",
    "        print('  {}'.format(x))\n",
    "    print('----')\n",
    "    print('{} unique entities'.format(len(key_uniques)))\n",
    "    for x in sorted(list(key_uniques))[:5]:\n",
    "        print('  {}'.format(x))\n",
    "    print('----')\n",
    "    print('{} other entities'.format(len(other_set)))\n",
    "    print('----')\n",
    "    print('----')\n",
    "    print(substring_dist.ix[substring_dist < 0].describe())\n",
    "    print('----')\n",
    "    print(substring_dist.ix[substring_dist < 0].value_counts().head(5))\n",
    "    print('----')\n",
    "    print('----')\n",
    "    print(substring_dist.ix[substring_dist > -1].describe())\n",
    "    print('----')\n",
    "    print(substring_dist.ix[substring_dist > -1].value_counts().head(5))"
   ]
  },
  {
   "cell_type": "code",
   "execution_count": 5,
   "metadata": {
    "collapsed": false
   },
   "outputs": [
    {
     "name": "stdout",
     "output_type": "stream",
     "text": [
      "17255 entities\n",
      "  A\n",
      "  A&M Records\n",
      "  A. C\n",
      "  A. Gunn\n",
      "  A. H. Cobb\n",
      "----\n",
      "16499 unique entities\n",
      "  A&M Records\n",
      "  A. C\n",
      "  A. Gunn\n",
      "  A. H. Cobb\n",
      "  A. J\n",
      "----\n",
      "2258 other entities\n",
      "----\n",
      "----\n",
      "count    427.000000\n",
      "mean     -12.625293\n",
      "std        8.243086\n",
      "min      -50.000000\n",
      "25%      -16.000000\n",
      "50%      -11.000000\n",
      "75%       -7.000000\n",
      "max       -1.000000\n",
      "dtype: float64\n",
      "----\n",
      "-14    33\n",
      "-5     33\n",
      "-6     29\n",
      "-8     29\n",
      "-9     28\n",
      "dtype: int64\n",
      "----\n",
      "----\n",
      "count    8310.000000\n",
      "mean       14.598556\n",
      "std         9.292060\n",
      "min         1.000000\n",
      "25%         8.000000\n",
      "50%        12.000000\n",
      "75%        19.000000\n",
      "max       102.000000\n",
      "dtype: float64\n",
      "----\n",
      "8     551\n",
      "9     551\n",
      "7     516\n",
      "11    494\n",
      "10    481\n",
      "dtype: int64\n"
     ]
    }
   ],
   "source": [
    "print_summary_stats(new_uniques, 'AlchemyAPI')"
   ]
  },
  {
   "cell_type": "code",
   "execution_count": 6,
   "metadata": {
    "collapsed": false
   },
   "outputs": [
    {
     "name": "stdout",
     "output_type": "stream",
     "text": [
      "1286 entities\n",
      "  A\n",
      "  ABC\n",
      "  ABH\n",
      "  AFP\n",
      "  AMG\n",
      "----\n",
      "236 unique entities\n",
      "  AFP\n",
      "  ARP\n",
      "  Adelaide, Australia\n",
      "  Alejandro\n",
      "  Alfredo \"Al Mineo\" Manfredi\n",
      "----\n",
      "18521 other entities\n",
      "----\n",
      "----\n",
      "count    63.000000\n",
      "mean    -11.317460\n",
      "std       6.455369\n",
      "min     -30.000000\n",
      "25%     -14.500000\n",
      "50%     -10.000000\n",
      "75%      -6.000000\n",
      "max      -1.000000\n",
      "dtype: float64\n",
      "----\n",
      "-5     8\n",
      "-9     6\n",
      "-11    5\n",
      "-8     5\n",
      "-6     4\n",
      "dtype: int64\n",
      "----\n",
      "----\n",
      "count    123.000000\n",
      "mean      10.658537\n",
      "std        7.266394\n",
      "min        1.000000\n",
      "25%        6.000000\n",
      "50%        9.000000\n",
      "75%       13.000000\n",
      "max       50.000000\n",
      "dtype: float64\n",
      "----\n",
      "5    15\n",
      "8    14\n",
      "6    12\n",
      "7    12\n",
      "9    11\n",
      "dtype: int64\n"
     ]
    }
   ],
   "source": [
    "print_summary_stats(new_uniques, 'basis')"
   ]
  },
  {
   "cell_type": "code",
   "execution_count": 7,
   "metadata": {
    "collapsed": false
   },
   "outputs": [
    {
     "name": "stdout",
     "output_type": "stream",
     "text": [
      "1431 entities\n",
      "  ABC\n",
      "  ABH\n",
      "  ADMD\n",
      "  AOL Inc\n",
      "  APRA Awards\n",
      "----\n",
      "407 unique entities\n",
      "  APRA Awards\n",
      "  APRA Music Awards\n",
      "  ARIA Music Award\n",
      "  Aboriginal-based\n",
      "  Abscam—sometimes\n",
      "----\n",
      "18350 other entities\n",
      "----\n",
      "----\n",
      "count    93.000000\n",
      "mean    -17.322581\n",
      "std      13.891788\n",
      "min     -73.000000\n",
      "25%     -21.000000\n",
      "50%     -13.000000\n",
      "75%      -8.000000\n",
      "max      -1.000000\n",
      "dtype: float64\n",
      "----\n",
      "-14    8\n",
      "-6     7\n",
      "-12    6\n",
      "-8     6\n",
      "-10    6\n",
      "dtype: int64\n",
      "----\n",
      "----\n",
      "count    186.000000\n",
      "mean      10.188172\n",
      "std        6.799211\n",
      "min        1.000000\n",
      "25%        6.000000\n",
      "50%        8.000000\n",
      "75%       12.000000\n",
      "max       48.000000\n",
      "dtype: float64\n",
      "----\n",
      "6     27\n",
      "7     23\n",
      "10    19\n",
      "8     18\n",
      "5     13\n",
      "dtype: int64\n"
     ]
    }
   ],
   "source": [
    "print_summary_stats(new_uniques, 'mitie')"
   ]
  },
  {
   "cell_type": "code",
   "execution_count": 8,
   "metadata": {
    "collapsed": false
   },
   "outputs": [
    {
     "name": "stdout",
     "output_type": "stream",
     "text": [
      "1226 entities\n",
      "  ABC\n",
      "  ABH\n",
      "  ADA\n",
      "  AOL Inc\n",
      "  ARIA Music Awards\n",
      "----\n",
      "295 unique entities\n",
      "  ADA\n",
      "  ARIA Music Awards\n",
      "  Academy Awards\n",
      "  Accepted Accounting Principles\n",
      "  Accountability\n",
      "----\n",
      "18462 other entities\n",
      "----\n",
      "----\n",
      "count    71.000000\n",
      "mean    -12.887324\n",
      "std      10.214205\n",
      "min     -50.000000\n",
      "25%     -14.500000\n",
      "50%      -9.000000\n",
      "75%      -6.500000\n",
      "max      -3.000000\n",
      "dtype: float64\n",
      "----\n",
      "-7     7\n",
      "-8     7\n",
      "-4     6\n",
      "-6     6\n",
      "-14    5\n",
      "dtype: int64\n",
      "----\n",
      "----\n",
      "count    173.000000\n",
      "mean      12.271676\n",
      "std        7.392733\n",
      "min        1.000000\n",
      "25%        7.000000\n",
      "50%       11.000000\n",
      "75%       16.000000\n",
      "max       57.000000\n",
      "dtype: float64\n",
      "----\n",
      "5     14\n",
      "13    14\n",
      "10    11\n",
      "8     10\n",
      "9     10\n",
      "dtype: int64\n"
     ]
    }
   ],
   "source": [
    "print_summary_stats(new_uniques, 'spacy')"
   ]
  },
  {
   "cell_type": "code",
   "execution_count": 9,
   "metadata": {
    "collapsed": false
   },
   "outputs": [
    {
     "data": {
      "text/plain": [
       "<matplotlib_venn._common.VennDiagram at 0x11c5ce9b0>"
      ]
     },
     "execution_count": 9,
     "metadata": {},
     "output_type": "execute_result"
    },
    {
     "data": {
      "image/png": "[encoded data removed]",
      "text/plain": [
       "<matplotlib.figure.Figure at 0x10c6d9f98>"
      ]
     },
     "metadata": {},
     "output_type": "display_data"
    }
   ],
   "source": [
    "from matplotlib_venn import venn3\n",
    "import seaborn as sns\n",
    "sns.set_context('notebook')\n",
    "%matplotlib inline\n",
    "\n",
    "venn3([new_uniques['basis'], new_uniques['mitie'], new_uniques['spacy']], set_labels=['Basis', 'MITIE', 'SpaCy'])"
   ]
  },
  {
   "cell_type": "code",
   "execution_count": 10,
   "metadata": {
    "collapsed": false
   },
   "outputs": [
    {
     "data": {
      "text/plain": [
       "<matplotlib_venn._common.VennDiagram at 0x11f59e358>"
      ]
     },
     "execution_count": 10,
     "metadata": {},
     "output_type": "execute_result"
    },
    {
     "data": {
      "image/png": "[encoded data removed]",
      "text/plain": [
       "<matplotlib.figure.Figure at 0x11c5dbcc0>"
      ]
     },
     "metadata": {},
     "output_type": "display_data"
    }
   ],
   "source": [
    "venn3([new_uniques['basis'], new_uniques['mitie'], new_uniques['AlchemyAPI']], set_labels=['Basis', 'MITIE', 'AlchemyAPI'])"
   ]
  },
  {
   "cell_type": "markdown",
   "metadata": {},
   "source": [
    "# My look at the data\n",
    "\n",
    "I was a bit curious about Aaron's aggregated scores, so took a look at the raw JSON he'd received.\n",
    "Per the Alchemy API, he could only run 1,000 documents through the program. He also used the default for *number* of entities to extract, meaning that he only got back at most fifty per document.\n",
    "Looking at the numbers for MITIE, Basis, and SpaCy,\n",
    "we have *way* more than fifty entities per document on average within that first 1000:\n",
    "\n",
    " |Basis | | MITIE | | SpaCy | | Alchemy | |\n",
    "---:| ---:| ---:| ---:| ---:| ---:| ---:\n",
    " | **All** | **Unique** | **All** | **Unique** | **All** | **Unique** | **All** | **Unique**\n",
    "**Mean** | 171.78 | 101.16 | 157.62 | 94.06 | 207.84 | 133.10 | 35.57 | 34.93\n",
    "**STD** | 253.21 | 129.00 | 224.37 | 117.98 | 303.57 | 169.60 | 17.23 | 16.81\n",
    "**Median** | 79.5| 56 | 77 | 55 | 100 | 76 | 48.5 | 46\n",
    "\n",
    "These counts are pretty skewed, but it still means that Alchemy is returning undercounts of entities for a number of results.\n",
    "\n",
    "Aaron was looking at the munged unique data, so I'm going to concentrate on a per document average here. What I want is the *average delta per document* for each tool."
   ]
  },
  {
   "cell_type": "code",
   "execution_count": 11,
   "metadata": {
    "collapsed": true
   },
   "outputs": [],
   "source": [
    "from itertools import combinations\n",
    "from collections import defaultdict\n",
    "\n",
    "jsns = json.load(open('post_basis_mitie_spacy_english.json', 'r'))\n",
    "alc_jsns = json.load(open('20160331_output.json', 'r'))"
   ]
  },
  {
   "cell_type": "code",
   "execution_count": 12,
   "metadata": {
    "collapsed": false
   },
   "outputs": [
    {
     "data": {
      "text/plain": [
       "<matplotlib_venn._common.VennDiagram at 0x1253acba8>"
      ]
     },
     "execution_count": 12,
     "metadata": {},
     "output_type": "execute_result"
    },
    {
     "data": {
      "image/png": "[encoded data removed]",
      "text/plain": [
       "<matplotlib.figure.Figure at 0x11c08eda0>"
      ]
     },
     "metadata": {},
     "output_type": "display_data"
    }
   ],
   "source": [
    "ent_groups = defaultdict(list)\n",
    "\n",
    "# key_set = {'alchemy', 'basis', 'mitie', 'spacy'}\n",
    "key_set = {'basis', 'mitie', 'spacy'}\n",
    "# for i in range(1000):\n",
    "for i in range(len(jsns)):\n",
    "    ents = dict()\n",
    "    for key in ['mitie', 'basis', 'spacy']:\n",
    "        ents[key] = set(x[1] for x in jsns[i][key]['full_text_ents'])\n",
    "        # ents['alchemy'] = set(x['text'] for x in alc_jsns[i]['entities'])\n",
    "        \n",
    "    for group_size in range(1,len(key_set)+1):\n",
    "        for key_group in combinations(key_set, group_size):\n",
    "            unique_keys = set(ents[key_group[0]])\n",
    "            for key in key_group[1:]:\n",
    "                unique_keys &= ents[key]\n",
    "\n",
    "            out_group = key_set - set(key_group)\n",
    "            for key in out_group:\n",
    "                unique_keys -= ents[key]\n",
    "\n",
    "            ent_groups[','.join(sorted(list(key_group)))].append(len(unique_keys))\n",
    "\n",
    "venn3(subsets=[pd.Series(ent_groups[x]).describe()['mean']\n",
    "               for x in ['basis', 'mitie', 'basis,mitie',\n",
    "                         'spacy', 'basis,spacy', 'mitie,spacy',\n",
    "                         'basis,mitie,spacy']],\n",
    "      set_labels=['Basis', 'MITIE', 'SpaCy'])"
   ]
  },
  {
   "cell_type": "code",
   "execution_count": 13,
   "metadata": {
    "collapsed": false
   },
   "outputs": [
    {
     "data": {
      "text/plain": [
       "<matplotlib_venn._common.VennDiagram at 0x125534400>"
      ]
     },
     "execution_count": 13,
     "metadata": {},
     "output_type": "execute_result"
    },
    {
     "data": {
      "image/png": "[encoded data removed]",
      "text/plain": [
       "<matplotlib.figure.Figure at 0x1253a1588>"
      ]
     },
     "metadata": {},
     "output_type": "display_data"
    }
   ],
   "source": [
    "ent_groups = defaultdict(list)\n",
    "\n",
    "key_set = {'alchemy', 'basis', 'mitie'}\n",
    "for i in range(1000):\n",
    "    ents = dict()\n",
    "    for key in ['mitie', 'basis', 'spacy']:\n",
    "        ents[key] = set(x[1] for x in jsns[i][key]['full_text_ents'])\n",
    "        ents['alchemy'] = set(x['text'] for x in alc_jsns[i]['entities'])\n",
    "        \n",
    "    for group_size in range(1,len(key_set)+1):\n",
    "        for key_group in combinations(key_set, group_size):\n",
    "            unique_keys = set(ents[key_group[0]])\n",
    "            for key in key_group[1:]:\n",
    "                unique_keys &= ents[key]\n",
    "\n",
    "            out_group = key_set - set(key_group)\n",
    "            for key in out_group:\n",
    "                unique_keys -= ents[key]\n",
    "\n",
    "            ent_groups[','.join(sorted(list(key_group)))].append(len(unique_keys))\n",
    "\n",
    "venn3(subsets=[pd.Series(ent_groups[x]).describe()['mean']\n",
    "               for x in ['alchemy', 'basis', 'alchemy,basis',\n",
    "                         'mitie', 'alchemy,mitie', 'basis,mitie',\n",
    "                         'alchemy,basis,mitie']],\n",
    "      set_labels=['Alchemy', 'Basis', 'MITIE'])"
   ]
  },
  {
   "cell_type": "code",
   "execution_count": 14,
   "metadata": {
    "collapsed": false
   },
   "outputs": [
    {
     "data": {
      "text/plain": [
       "<matplotlib_venn._common.VennDiagram at 0x1255d1e48>"
      ]
     },
     "execution_count": 14,
     "metadata": {},
     "output_type": "execute_result"
    },
    {
     "data": {
      "image/png": "[encoded data removed]",
      "text/plain": [
       "<matplotlib.figure.Figure at 0x125521cf8>"
      ]
     },
     "metadata": {},
     "output_type": "display_data"
    }
   ],
   "source": [
    "ent_groups = defaultdict(list)\n",
    "\n",
    "key_set = {'alchemy', 'basis', 'spacy'}\n",
    "for i in range(1000):\n",
    "    ents = dict()\n",
    "    for key in ['mitie', 'basis', 'spacy']:\n",
    "        ents[key] = set(x[1] for x in jsns[i][key]['full_text_ents'])\n",
    "        ents['alchemy'] = set(x['text'] for x in alc_jsns[i]['entities'])\n",
    "        \n",
    "    for group_size in range(1,len(key_set)+1):\n",
    "        for key_group in combinations(key_set, group_size):\n",
    "            unique_keys = set(ents[key_group[0]])\n",
    "            for key in key_group[1:]:\n",
    "                unique_keys &= ents[key]\n",
    "\n",
    "            out_group = key_set - set(key_group)\n",
    "            for key in out_group:\n",
    "                unique_keys -= ents[key]\n",
    "\n",
    "            ent_groups[','.join(sorted(list(key_group)))].append(len(unique_keys))\n",
    "\n",
    "venn3(subsets=[pd.Series(ent_groups[x]).describe()['mean']\n",
    "               for x in ['alchemy', 'basis', 'alchemy,basis',\n",
    "                         'spacy', 'alchemy,spacy', 'basis,spacy',\n",
    "                         'alchemy,basis,spacy']],\n",
    "      set_labels=['Alchemy', 'Basis', 'SpaCy'])"
   ]
  },
  {
   "cell_type": "code",
   "execution_count": 15,
   "metadata": {
    "collapsed": false
   },
   "outputs": [
    {
     "data": {
      "text/plain": [
       "<matplotlib_venn._common.VennDiagram at 0x125672ac8>"
      ]
     },
     "execution_count": 15,
     "metadata": {},
     "output_type": "execute_result"
    },
    {
     "data": {
      "image/png": "[encoded data removed]",
      "text/plain": [
       "<matplotlib.figure.Figure at 0x12551a780>"
      ]
     },
     "metadata": {},
     "output_type": "display_data"
    }
   ],
   "source": [
    "ent_groups = defaultdict(list)\n",
    "\n",
    "# key_set = {'alchemy', 'basis', 'mitie', 'spacy'}\n",
    "key_set = {'alchemy', 'mitie', 'spacy'}\n",
    "for i in range(1000):\n",
    "    ents = dict()\n",
    "    for key in ['mitie', 'basis', 'spacy']:\n",
    "        ents[key] = set(x[1] for x in jsns[i][key]['full_text_ents'])\n",
    "        ents['alchemy'] = set(x['text'] for x in alc_jsns[i]['entities'])\n",
    "        \n",
    "    for group_size in range(1,len(key_set)+1):\n",
    "        for key_group in combinations(key_set, group_size):\n",
    "            unique_keys = set(ents[key_group[0]])\n",
    "            for key in key_group[1:]:\n",
    "                unique_keys &= ents[key]\n",
    "\n",
    "            out_group = key_set - set(key_group)\n",
    "            for key in out_group:\n",
    "                unique_keys -= ents[key]\n",
    "\n",
    "            ent_groups[','.join(sorted(list(key_group)))].append(len(unique_keys))\n",
    "\n",
    "venn3(subsets=[pd.Series(ent_groups[x]).describe()['mean']\n",
    "               for x in ['alchemy', 'mitie', 'alchemy,mitie',\n",
    "                         'spacy', 'alchemy,spacy', 'mitie,spacy',\n",
    "                         'alchemy,mitie,spacy']],\n",
    "      set_labels=['Alchemy', 'MITIE', 'SpaCy'])"
   ]
  },
  {
   "cell_type": "markdown",
   "metadata": {},
   "source": [
    "Bearing in mind that these counts are screwed up due to the Alchemy entity caps, it seems like SpaCy is, on average, finding the greatest number of unique entities."
   ]
  },
  {
   "cell_type": "markdown",
   "metadata": {},
   "source": [
    "# Issues\n",
    "\n",
    "The issues with these tests (and they are biggies):\n",
    "\n",
    "## The Alchemy API Caps\n",
    "\n",
    "Those make it really hard to compare performance across the different documents. It would be worth re-running the test (shouldn't take too long) pulling down the same results b\n",
    "\n",
    "## Gold-standard data\n",
    "\n",
    "We don't have any gold-standard entity extraction data: we need validated ground truth for difinitive answers.\n",
    "\n",
    "## Foreign-language data\n",
    "\n",
    "We've only been testing on entity extraction in English. If we want to know about performance on other languages, we need data on other languages.\n",
    "\n",
    "## Mimicking GOST &/or Dozer's internal post-processing pipeline\n",
    "\n",
    "I did some degree of post-processing on the data extacted by Aaron, using my own system for cleaning up extracted entities. Really, we should be using the post-extraction pipelines followed by GOST and Dozer, since those are the ones that matter in practice."
   ]
  }
 ],
 "metadata": {
  "kernelspec": {
   "display_name": "Python 3",
   "language": "python",
   "name": "python3"
  },
  "language_info": {
   "codemirror_mode": {
    "name": "ipython",
    "version": 3
   },
   "file_extension": ".py",
   "mimetype": "text/x-python",
   "name": "python",
   "nbconvert_exporter": "python",
   "pygments_lexer": "ipython3",
   "version": "3.5.1"
  }
 },
 "nbformat": 4,
 "nbformat_minor": 0
}
